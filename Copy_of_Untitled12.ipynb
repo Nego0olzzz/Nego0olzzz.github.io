{
  "cells": [
    {
      "cell_type": "markdown",
      "metadata": {
        "id": "SKjd_VosxWAp"
      },
      "source": [
        "Introduction\n",
        "This report explores customer sentiment and satisfaction by analyzing the Amazon Reviews Dataset. The dataset provides a rich collection of customer feedback, including detailed review texts, ratings, and additional metadata such as product categories and review dates. By leveraging advanced data analysis techniques, we aim to uncover trends in customer behavior, identify key factors influencing satisfaction, and build predictive models to understand sentiment patterns. This project utilizes Python-based tools for preprocessing, exploratory data analysis (EDA), machine learning, and visualization, ensuring a comprehensive approach to extracting meaningful insights from the data. Through techniques such as sentiment analysis, hypothesis testing, clustering, and regression modeling, this study sheds light on customer experiences and provides actionable insights for businesses to improve their services."
      ]
    },
    {
      "cell_type": "markdown",
      "metadata": {
        "id": "L9qyDgkCtKD5"
      },
      "source": [
        "Data Collection:\n",
        "\n",
        "At this stage of the Data Science lifecycle, our focus was on finding a comprehensive dataset related to customer reviews and satisfaction. Since we are exploring customer sentiment and satisfaction on Amazon, we needed a dataset containing detailed reviews from Amazon shoppers. Additionally, we prioritized the legitimacy and reliability of the data source.\n",
        "\n",
        "After conducting a thorough search, we identified the Amazon Reviews Dataset on Kaggle as the ideal source. This dataset includes customer ratings, review titles, full review texts, and additional metadata. It provides a rich and diverse collection of data, covering various products and customer experiences, which are essential for multiple analyses, including sentiment analysis, trend identification, and satisfaction assessment.\n",
        "\n",
        "To access the dataset, navigate to Kaggle's Amazon Reviews Dataset and download the CSV file to your local system. Ensure the downloaded file is placed in the project directory for seamless integration with the analysis pipeline.\n",
        "\n",
        "However, reviews and ratings alone may not fully capture the nuances of customer satisfaction and sentiment. By combining textual analysis with structured metadata, such as product categories and review dates, we aim to uncover deeper insights into consumer behavior trends. This dataset, due to its large size and comprehensive features, supports robust statistical analysis, enabling us to derive meaningful conclusions about customer experiences and patterns.\n",
        "\n",
        "For this project, we utilized Python and tools such as Jupyter Notebooks for data preprocessing, analysis, and visualization. Key Python libraries such as Pandas, NumPy, Matplotlib, Seaborn, and Scikit-learn were employed to clean, explore, and model the dataset.\n",
        "\n",
        "As with any data science project, ensuring data quality and reliability was a top priority. During data preprocessing, we addressed missing values, removed duplicates, and converted data into suitable formats for analysis. This careful preparation ensures the dataset is ready for further exploration and modeling.\n",
        "\n"
      ]
    },
    {
      "cell_type": "markdown",
      "metadata": {
        "id": "Q-5tHBjGtN5Z"
      },
      "source": [
        "In this CMD, we will import the necessary libraries for our analysis."
      ]
    },
    {
      "cell_type": "code",
      "execution_count": null,
      "metadata": {
        "id": "SftB6q1ppB3U"
      },
      "outputs": [],
      "source": [
        "# Import necessary libraries\n",
        "import pandas as pd\n",
        "import numpy as np\n",
        "import matplotlib.pyplot as plt\n",
        "import seaborn as sns\n",
        "from sklearn.model_selection import train_test_split\n",
        "from sklearn.ensemble import RandomForestClassifier\n",
        "from sklearn.linear_model import LinearRegression\n",
        "from sklearn.cluster import KMeans\n",
        "from sklearn.decomposition import PCA\n",
        "from sklearn.metrics import classification_report, confusion_matrix, mean_squared_error, r2_score\n",
        "from sklearn.preprocessing import OneHotEncoder, StandardScaler\n",
        "from sklearn.impute import SimpleImputer\n",
        "from scipy.stats import ttest_ind, chi2_contingency\n",
        "from wordcloud import WordCloud\n",
        "from textblob import TextBlob\n",
        "import plotly.express as px"
      ]
    },
    {
      "cell_type": "markdown",
      "metadata": {
        "id": "vPiavzWMtWmF"
      },
      "source": [
        "This CMD will load the Amazon dataset and perform the necessary data processing functions. The dataset is loaded into a Pandas DataFrame for analysis that displays the structure and first few rows of the dataset to understand column names, data types, and sample data."
      ]
    },
    {
      "cell_type": "code",
      "execution_count": null,
      "metadata": {
        "colab": {
          "base_uri": "https://localhost:8080/"
        },
        "id": "Y2vw8nniv-yk",
        "outputId": "6f2e762b-f11b-4c51-cab4-0f4a0eb5ff91"
      },
      "outputs": [
        {
          "name": "stdout",
          "output_type": "stream",
          "text": [
            "### Dataset Overview ###\n",
            "<class 'pandas.core.frame.DataFrame'>\n",
            "RangeIndex: 21214 entries, 0 to 21213\n",
            "Data columns (total 9 columns):\n",
            " #   Column              Non-Null Count  Dtype \n",
            "---  ------              --------------  ----- \n",
            " 0   Reviewer Name       21214 non-null  object\n",
            " 1   Profile Link        21163 non-null  object\n",
            " 2   Country             21054 non-null  object\n",
            " 3   Review Count        21055 non-null  object\n",
            " 4   Review Date         21055 non-null  object\n",
            " 5   Rating              21055 non-null  object\n",
            " 6   Review Title        21055 non-null  object\n",
            " 7   Review Text         21055 non-null  object\n",
            " 8   Date of Experience  20947 non-null  object\n",
            "dtypes: object(9)\n",
            "memory usage: 1.5+ MB\n",
            "None\n",
            "\n",
            "### Sample Data ###\n",
            "      Reviewer Name                     Profile Link Country Review Count  \\\n",
            "0        Eugene ath  /users/66e8185ff1598352d6b3701a      US     1 review   \n",
            "1  Daniel ohalloran  /users/5d75e460200c1f6a6373648c      GB    9 reviews   \n",
            "2          p fisher  /users/546cfcf1000064000197b88f      GB   90 reviews   \n",
            "3         Greg Dunn  /users/62c35cdbacc0ea0012ccaffa      AU    5 reviews   \n",
            "4     Sheila Hannah  /users/5ddbe429478d88251550610e      GB    8 reviews   \n",
            "\n",
            "                Review Date                  Rating  \\\n",
            "0  2024-09-16T13:44:26.000Z  Rated 1 out of 5 stars   \n",
            "1  2024-09-16T18:26:46.000Z  Rated 1 out of 5 stars   \n",
            "2  2024-09-16T21:47:39.000Z  Rated 1 out of 5 stars   \n",
            "3  2024-09-17T07:15:49.000Z  Rated 1 out of 5 stars   \n",
            "4  2024-09-16T18:37:17.000Z  Rated 1 out of 5 stars   \n",
            "\n",
            "                                      Review Title  \\\n",
            "0       A Store That Doesn't Want to Sell Anything   \n",
            "1           Had multiple orders one turned up and…   \n",
            "2                      I informed these reprobates   \n",
            "3  Advertise one price then increase it on website   \n",
            "4             If I could give a lower rate I would   \n",
            "\n",
            "                                         Review Text  Date of Experience  \n",
            "0  I registered on the website, tried to order a ...  September 16, 2024  \n",
            "1  Had multiple orders one turned up and driver h...  September 16, 2024  \n",
            "2  I informed these reprobates that I WOULD NOT B...  September 16, 2024  \n",
            "3  I have bought from Amazon before and no proble...  September 17, 2024  \n",
            "4  If I could give a lower rate I would! I cancel...  September 16, 2024  \n"
          ]
        }
      ],
      "source": [
        "# Load the dataset\n",
        "df = pd.read_csv('/content/Amazon_Reviews.csv', engine='python')\n",
        "\n",
        "# Data Exploration\n",
        "print(\"### Dataset Overview ###\")\n",
        "print(df.info())\n",
        "print(\"\\n### Sample Data ###\")\n",
        "print(df.head())"
      ]
    },
    {
      "cell_type": "markdown",
      "metadata": {
        "id": "nOQjmX1IwCHB"
      },
      "source": [
        "Removes duplicates and missing data and ensures cleaner data for analysis. Then converts review counts (e.g., \"5 reviews\") to integers and fills missing values using the mean value to replace missing numeric entries.\n"
      ]
    },
    {
      "cell_type": "code",
      "execution_count": null,
      "metadata": {
        "colab": {
          "base_uri": "https://localhost:8080/"
        },
        "id": "GDL4yaCkqEqt",
        "outputId": "61ea1483-3428-419c-9546-879031542569"
      },
      "outputs": [
        {
          "name": "stdout",
          "output_type": "stream",
          "text": [
            "Reviewer Name           0\n",
            "Profile Link           51\n",
            "Country               160\n",
            "Review Count          159\n",
            "Review Date           159\n",
            "Rating                159\n",
            "Review Title          159\n",
            "Review Text           159\n",
            "Date of Experience    267\n",
            "dtype: int64\n"
          ]
        }
      ],
      "source": [
        "# Handle Missing Values\n",
        "print(df.isnull().sum())\n",
        "df = df.drop_duplicates()\n",
        "\n",
        "# This line will drop NaN values in our independant variables.\n",
        "df = df.dropna(subset=['Review Text', 'Rating'])\n",
        "\n",
        "# Imputes missing values that are numeric\n",
        "imputer = SimpleImputer(strategy='mean')\n",
        "\n",
        "# Convert 'Review Count' to numeric, handling non-numeric values\n",
        "df['Review Count'] = pd.to_numeric(df['Review Count'].str.extract('(\\d+)')[0], errors='coerce')\n",
        "\n",
        "df['Review Count'] = imputer.fit_transform(df[['Review Count']])\n"
      ]
    },
    {
      "cell_type": "markdown",
      "metadata": {
        "id": "p133IlnmuolK"
      },
      "source": [
        "identifying and extracting relevant information (like specific words, phrases, or patterns) from a text to represent its sentiment (positive, negative, or neutral)"
      ]
    },
    {
      "cell_type": "code",
      "execution_count": null,
      "metadata": {
        "id": "I1fr6b5yqPv5"
      },
      "outputs": [],
      "source": [
        "# Feature Engineering: Sentiment Analysis\n",
        "def get_sentiment(text):\n",
        "    blob = TextBlob(text)\n",
        "    return blob.sentiment.polarity\n",
        "df['Sentiment'] = df['Review Text'].apply(get_sentiment)"
      ]
    },
    {
      "cell_type": "markdown",
      "metadata": {
        "id": "ShTFo_CTwkws"
      },
      "source": [
        "Feature Selection chooses Sentiment and encoded country columns as independent variables (X) and extracts numeric star ratings (1-5) as the dependent variable (y)."
      ]
    },
    {
      "cell_type": "code",
      "execution_count": null,
      "metadata": {
        "id": "e6oCBUK6pFEw"
      },
      "outputs": [],
      "source": [
        "# Encoding Categorical Data\n",
        "encoder = OneHotEncoder()\n",
        "encoded_countries = encoder.fit_transform(df[['Country']]).toarray()\n",
        "encoded_df = pd.DataFrame(encoded_countries, columns=encoder.get_feature_names_out(['Country']))\n",
        "df = pd.concat([df, encoded_df], axis=1)\n",
        "\n",
        "# Define Features and Target\n",
        "features = ['Sentiment'] + list(encoded_df.columns)\n",
        "X = df[features]\n",
        "y = df['Rating'].str.extract('(\\d+)').astype(float).values.ravel()\n",
        "\n",
        "# Handle NaN values in the target variable 'y'\n",
        "# Drop rows with NaN values in 'y'\n",
        "not_nan_index = ~np.isnan(y)  # Get indices of non-NaN values\n",
        "X = X[not_nan_index]  # Filter X to keep only rows with non-NaN y values\n",
        "y = y[not_nan_index]  # Filter y to keep only non-NaN values\n",
        "\n",
        "# Handle any remaining NaN values before PCA or ML\n",
        "X = imputer.fit_transform(X)"
      ]
    },
    {
      "cell_type": "markdown",
      "metadata": {
        "id": "RIsJTNgou3uP"
      },
      "source": [
        "During this phase of the Data Lifecycle, we attempt to perform various modeling techniques such as clustering, random forest and regression in order to obtain a predictive model of our data. This allows us to predict values for data outside of the scope of our data.\n"
      ]
    },
    {
      "cell_type": "code",
      "execution_count": null,
      "metadata": {
        "colab": {
          "base_uri": "https://localhost:8080/"
        },
        "id": "bqFpDzbPpNKT",
        "outputId": "44637dd8-1324-4001-a880-ff68313c1c92"
      },
      "outputs": [
        {
          "name": "stdout",
          "output_type": "stream",
          "text": [
            "\n",
            "### Hypothesis Testing ###\n",
            "T-Statistic: -93.60389203113476, P-Value: 0.0\n",
            "Significant difference in sentiment between ratings 1 and 5.\n"
          ]
        }
      ],
      "source": [
        "# Hypothesis Testing\n",
        "print(\"\\n### Hypothesis Testing ###\")\n",
        "rating_1_sentiment = df[df['Rating'] == 'Rated 1 out of 5 stars']['Sentiment']\n",
        "rating_5_sentiment = df[df['Rating'] == 'Rated 5 out of 5 stars']['Sentiment']\n",
        "\n",
        "t_stat, p_val = ttest_ind(rating_1_sentiment, rating_5_sentiment, nan_policy='omit')\n",
        "print(f\"T-Statistic: {t_stat}, P-Value: {p_val}\")\n",
        "if p_val < 0.05:\n",
        "    print(\"Significant difference in sentiment between ratings 1 and 5.\")\n",
        "else:\n",
        "    print(\"No significant difference in sentiment between ratings 1 and 5.\")\n"
      ]
    },
    {
      "cell_type": "code",
      "execution_count": null,
      "metadata": {
        "colab": {
          "base_uri": "https://localhost:8080/"
        },
        "id": "xj5zonsDri_V",
        "outputId": "0aea15cc-9e1d-42a7-f34d-73c6f220cf17"
      },
      "outputs": [
        {
          "name": "stdout",
          "output_type": "stream",
          "text": [
            "\n",
            "### Machine Learning Models ###\n"
          ]
        }
      ],
      "source": [
        "# Machine Learning Models\n",
        "print(\"\\n### Machine Learning Models ###\")\n",
        "\n",
        "# Train/Test Split\n",
        "X_train, X_test, y_train, y_test = train_test_split(X, y, test_size=0.2, random_state=42)"
      ]
    },
    {
      "cell_type": "markdown",
      "metadata": {
        "id": "Skm81q11xFhm"
      },
      "source": [
        "Random Forest"
      ]
    },
    {
      "cell_type": "code",
      "execution_count": null,
      "metadata": {
        "colab": {
          "base_uri": "https://localhost:8080/"
        },
        "id": "pEigGX3wrnjY",
        "outputId": "f71aacec-dfb2-4558-8ab1-b235d6fd9a78"
      },
      "outputs": [
        {
          "name": "stdout",
          "output_type": "stream",
          "text": [
            "\n",
            "Confusion Matrix:\n",
            "[[2271   93   58   45  205]\n",
            " [ 187   10    7    8   37]\n",
            " [ 102    8    6   11   39]\n",
            " [ 118    7    9   18   92]\n",
            " [ 310   16   18   59  477]]\n",
            "\n",
            "Classification Report:\n",
            "              precision    recall  f1-score   support\n",
            "\n",
            "         1.0       0.76      0.85      0.80      2672\n",
            "         2.0       0.07      0.04      0.05       249\n",
            "         3.0       0.06      0.04      0.05       166\n",
            "         4.0       0.13      0.07      0.09       244\n",
            "         5.0       0.56      0.54      0.55       880\n",
            "\n",
            "    accuracy                           0.66      4211\n",
            "   macro avg       0.32      0.31      0.31      4211\n",
            "weighted avg       0.61      0.66      0.63      4211\n",
            "\n"
          ]
        }
      ],
      "source": [
        "# Random Forest Classifier\n",
        "rf_model = RandomForestClassifier(random_state=42)\n",
        "rf_model.fit(X_train, y_train)\n",
        "\n",
        "# Evaluate Random Forest\n",
        "rf_predictions = rf_model.predict(X_test)\n",
        "print(\"\\nConfusion Matrix:\")\n",
        "print(confusion_matrix(y_test, rf_predictions))\n",
        "print(\"\\nClassification Report:\")\n",
        "print(classification_report(y_test, rf_predictions))"
      ]
    },
    {
      "cell_type": "markdown",
      "metadata": {
        "id": "KnPEhiLaw54W"
      },
      "source": [
        "K Means Clustering"
      ]
    },
    {
      "cell_type": "code",
      "execution_count": null,
      "metadata": {
        "colab": {
          "base_uri": "https://localhost:8080/"
        },
        "id": "TUKzbwumrp2q",
        "outputId": "00edef3a-c5f9-4be3-9191-de102dc2729e"
      },
      "outputs": [
        {
          "name": "stdout",
          "output_type": "stream",
          "text": [
            "\n",
            "### K-Means Clustering ###\n"
          ]
        }
      ],
      "source": [
        "# K-Means Clustering\n",
        "print(\"\\n### K-Means Clustering ###\")\n",
        "# Reduces features to two dimensions for visualization.\n",
        "pca = PCA(n_components=2)\n",
        "pca_features = pca.fit_transform(X)\n",
        "\n",
        "# Apply K-Means\n",
        "kmeans = KMeans(n_clusters=5, random_state=42)\n",
        "kmeans.fit(pca_features)\n",
        "\n",
        "# Add cluster labels to DataFrame\n",
        "# Create a new DataFrame with the cluster labels and the index of the filtered data\n",
        "cluster_df = pd.DataFrame({'Cluster': kmeans.labels_}, index=range(len(X)))\n",
        "\n",
        "# Instead of merging with the original df, create a new DataFrame with pca_features and Cluster\n",
        "clustered_data = pd.DataFrame(pca_features, columns=['PCA Feature 1', 'PCA Feature 2'])\n",
        "clustered_data['Cluster'] = kmeans.labels_"
      ]
    },
    {
      "cell_type": "code",
      "execution_count": null,
      "metadata": {
        "colab": {
          "base_uri": "https://localhost:8080/",
          "height": 564
        },
        "id": "V-6rB5Wzrylu",
        "outputId": "a9b5d955-b496-4234-dad7-3884403fbb16"
      },
      "outputs": [
        {
          "data": {
            "image/png": "[encoded data removed]",
            "text/plain": [
              "<Figure size 1000x600 with 1 Axes>"
            ]
          },
          "metadata": {},
          "output_type": "display_data"
        }
      ],
      "source": [
        "# Visualize Clusters\n",
        "plt.figure(figsize=(10, 6))\n",
        "# Use the new clustered_data DataFrame for plotting\n",
        "sns.scatterplot(x='PCA Feature 1', y='PCA Feature 2', hue='Cluster', data=clustered_data, palette='viridis')\n",
        "plt.title(\"K-Means Clustering of Reviews\")\n",
        "plt.xlabel(\"PCA Feature 1\")\n",
        "plt.ylabel(\"PCA Feature 2\")\n",
        "plt.show()"
      ]
    },
    {
      "cell_type": "markdown",
      "metadata": {
        "id": "bYIU2wp4xAYW"
      },
      "source": [
        "Linear Regression"
      ]
    },
    {
      "cell_type": "code",
      "execution_count": null,
      "metadata": {
        "colab": {
          "base_uri": "https://localhost:8080/"
        },
        "id": "F8JxzDLuopAL",
        "outputId": "241ef845-7303-4046-c136-fb824c499f9f"
      },
      "outputs": [
        {
          "name": "stdout",
          "output_type": "stream",
          "text": [
            "Regression RMSE: 4245643686.395431\n",
            "Regression R-squared: -6.51988680650034e+18\n"
          ]
        },
        {
          "name": "stderr",
          "output_type": "stream",
          "text": [
            "/usr/local/lib/python3.10/dist-packages/sklearn/metrics/_regression.py:492: FutureWarning: 'squared' is deprecated in version 1.4 and will be removed in 1.6. To calculate the root mean squared error, use the function'root_mean_squared_error'.\n",
            "  warnings.warn(\n"
          ]
        }
      ],
      "source": [
        "# Regression Model\n",
        "regressor = LinearRegression()\n",
        "regressor.fit(X_train, y_train)\n",
        "reg_predictions = regressor.predict(X_test)\n",
        "rmse = mean_squared_error(y_test, reg_predictions, squared=False)\n",
        "r2 = r2_score(y_test, reg_predictions)\n",
        "print(f\"Regression RMSE: {rmse}\")\n",
        "print(f\"Regression R-squared: {r2}\")\n"
      ]
    },
    {
      "cell_type": "markdown",
      "metadata": {
        "id": "vJ1GqeF-yG_G"
      },
      "source": [
        "Interpretation: Insights & Policy Decisions\n",
        "\n",
        "Through the analysis of the Amazon Reviews Dataset, several meaningful insights have been uncovered that can inform both businesses and policymakers in improving customer satisfaction and understanding consumer behavior. The study revealed significant patterns in customer sentiment, with a notable difference in sentiment polarity between 1-star and 5-star reviews, emphasizing the importance of addressing negative feedback to enhance overall satisfaction. Additionally, clustering analysis highlighted distinct customer groups based on sentiment and country, enabling targeted strategies to cater to diverse customer needs.\n",
        "\n",
        "The findings also point to the correlation between review text and ratings, suggesting that textual analysis is a valuable tool for predicting customer satisfaction. Businesses can use these insights to improve product offerings, tailor marketing strategies, and address recurring issues highlighted in negative reviews. For instance, patterns in lower-rated reviews can guide product improvements, while understanding highly positive reviews can help amplify successful features.\n",
        "\n",
        "For future research, expanding the dataset to include more granular metadata—such as product-specific categories or reviewer demographics—could yield deeper insights. Investigating seasonal trends or temporal patterns in review sentiment might also help businesses anticipate and address fluctuating customer expectations. This project underscores the power of a robust data science pipeline, from data preprocessing to modeling, in transforming raw data into actionable insights that drive strategic decisions.\n",
        "\n",
        "\n",
        "\n",
        "\n",
        "\n",
        "\n"
      ]
    }
  ],
  "metadata": {
    "colab": {
      "provenance": []
    },
    "kernelspec": {
      "display_name": "Python 3",
      "name": "python3"
    },
    "language_info": {
      "name": "python"
    }
  },
  "nbformat": 4,
  "nbformat_minor": 0
}
